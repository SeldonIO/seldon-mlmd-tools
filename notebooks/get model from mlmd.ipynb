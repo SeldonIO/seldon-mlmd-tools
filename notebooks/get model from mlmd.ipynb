{
 "cells": [
  {
   "cell_type": "code",
   "execution_count": 1,
   "metadata": {},
   "outputs": [
    {
     "name": "stdout",
     "output_type": "stream",
     "text": [
      "version: 0.1.0\n",
      "file: /home/rskolasinski/work/seldon-mlmd-tools/python/seldon_mlmd_tools/__init__.py\n"
     ]
    }
   ],
   "source": [
    "import seldon_mlmd_tools as mlmd_tools\n",
    "\n",
    "print(\"version:\", mlmd_tools.__version__)\n",
    "print(\"file:\", mlmd_tools.__file__)"
   ]
  },
  {
   "cell_type": "markdown",
   "metadata": {},
   "source": [
    "# Get Models from MLMD Store"
   ]
  },
  {
   "cell_type": "code",
   "execution_count": 2,
   "metadata": {},
   "outputs": [],
   "source": [
    "mlmd_store = mlmd_tools.connect_and_initialize(\"localhost:8080\")\n",
    "models = mlmd_tools.load_seldon_models_from_store(mlmd_store)"
   ]
  },
  {
   "cell_type": "code",
   "execution_count": 3,
   "metadata": {},
   "outputs": [
    {
     "name": "stdout",
     "output_type": "stream",
     "text": [
      "{'input_schema': {'features': [{'dtype': 'int',\n",
      "                                'name': 'age',\n",
      "                                'qdtype': 'ordinal',\n",
      "                                'stats': {'max': 70, 'min': 18}},\n",
      "                               {'category_map': {0: 'Blue Collar',\n",
      "                                                 1: 'White Collar',\n",
      "                                                 2: 'Other'},\n",
      "                                'dtype': 'int',\n",
      "                                'n_categories': 3,\n",
      "                                'name': 'occupation',\n",
      "                                'qdtype': 'categorical'},\n",
      "                               {'categorical_variable_id': 1,\n",
      "                                'category_name': 'male',\n",
      "                                'dtype': 'str',\n",
      "                                'name': 'sex',\n",
      "                                'qdtype': 'one-hot-categorical'},\n",
      "                               {'categorical_variable_id': 1,\n",
      "                                'category_name': 'female',\n",
      "                                'dtype': 'str',\n",
      "                                'name': 'sex',\n",
      "                                'qdtype': 'one-hot-categorical'}],\n",
      "                  'type': 'tabular'},\n",
      " 'name': 'MyBlackBoxModel',\n",
      " 'output_schema': {'features': [{'dtype': 'float',\n",
      "                                 'name': 'accept',\n",
      "                                 'qdtype': 'proba'},\n",
      "                                {'dtype': 'float',\n",
      "                                 'name': 'reject',\n",
      "                                 'qdtype': 'proba'}],\n",
      "                   'type': 'tabular'},\n",
      " 'task': 'classification',\n",
      " 'type': 'blackbox'}\n"
     ]
    }
   ],
   "source": [
    "from pprint import pprint; \n",
    "\n",
    "for m in models:\n",
    "    pprint(m.dict())"
   ]
  }
 ],
 "metadata": {
  "kernelspec": {
   "display_name": "Python 3",
   "language": "python",
   "name": "python3"
  },
  "language_info": {
   "codemirror_mode": {
    "name": "ipython",
    "version": 3
   },
   "file_extension": ".py",
   "mimetype": "text/x-python",
   "name": "python",
   "nbconvert_exporter": "python",
   "pygments_lexer": "ipython3",
   "version": "3.8.5"
  }
 },
 "nbformat": 4,
 "nbformat_minor": 4
}
