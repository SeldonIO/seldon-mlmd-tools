{
 "cells": [
  {
   "cell_type": "code",
   "execution_count": 1,
   "metadata": {},
   "outputs": [
    {
     "name": "stdout",
     "output_type": "stream",
     "text": [
      "version: 0.1.0\n",
      "file: /home/rskolasinski/work/seldon-mlmd-tools/python/seldon_mlmd_tools/__init__.py\n"
     ]
    }
   ],
   "source": [
    "import seldon_mlmd_tools as mlmd_tools\n",
    "\n",
    "print(\"version:\", mlmd_tools.__version__)\n",
    "print(\"file:\", mlmd_tools.__file__)"
   ]
  },
  {
   "cell_type": "markdown",
   "metadata": {},
   "source": [
    "# Prepare Model"
   ]
  },
  {
   "cell_type": "code",
   "execution_count": 2,
   "metadata": {},
   "outputs": [],
   "source": [
    "from example_data import model_schema as model_example_dict"
   ]
  },
  {
   "cell_type": "code",
   "execution_count": 3,
   "metadata": {},
   "outputs": [],
   "source": [
    "model = mlmd_tools.schemas.Model.parse_obj(model_example_dict)"
   ]
  },
  {
   "cell_type": "code",
   "execution_count": 4,
   "metadata": {},
   "outputs": [
    {
     "data": {
      "text/plain": [
       "[seldon_mlmd_tools.schemas.OrdinalFeature,\n",
       " seldon_mlmd_tools.schemas.CategoricalFeature,\n",
       " seldon_mlmd_tools.schemas.OneHotCategoricalFeature,\n",
       " seldon_mlmd_tools.schemas.OneHotCategoricalFeature]"
      ]
     },
     "execution_count": 4,
     "metadata": {},
     "output_type": "execute_result"
    }
   ],
   "source": [
    "[type(x) for x in model.input_schema.features]"
   ]
  },
  {
   "cell_type": "code",
   "execution_count": 5,
   "metadata": {},
   "outputs": [
    {
     "name": "stdout",
     "output_type": "stream",
     "text": [
      "{'input_schema': {'features': [{'dtype': 'int',\n",
      "                                'name': 'age',\n",
      "                                'qdtype': 'ordinal',\n",
      "                                'stats': {'max': 70, 'min': 18}},\n",
      "                               {'category_map': {0: 'Blue Collar',\n",
      "                                                 1: 'White Collar',\n",
      "                                                 2: 'Other'},\n",
      "                                'dtype': 'int',\n",
      "                                'n_categories': 3,\n",
      "                                'name': 'occupation',\n",
      "                                'qdtype': 'categorical'},\n",
      "                               {'categorical_variable_id': 1,\n",
      "                                'category_name': 'male',\n",
      "                                'dtype': 'str',\n",
      "                                'name': 'sex',\n",
      "                                'qdtype': 'one-hot-categorical'},\n",
      "                               {'categorical_variable_id': 1,\n",
      "                                'category_name': 'female',\n",
      "                                'dtype': 'str',\n",
      "                                'name': 'sex',\n",
      "                                'qdtype': 'one-hot-categorical'}],\n",
      "                  'type': 'tabular'},\n",
      " 'name': 'MyBlackBoxModel',\n",
      " 'output_schema': {'features': [{'dtype': 'float',\n",
      "                                 'name': 'accept',\n",
      "                                 'qdtype': 'proba'},\n",
      "                                {'dtype': 'float',\n",
      "                                 'name': 'reject',\n",
      "                                 'qdtype': 'proba'}],\n",
      "                   'type': 'tabular'},\n",
      " 'task': 'classification',\n",
      " 'type': 'blackbox'}\n"
     ]
    }
   ],
   "source": [
    "from pprint import pprint; pprint(model.dict())"
   ]
  },
  {
   "cell_type": "markdown",
   "metadata": {},
   "source": [
    "# Put Model into Store"
   ]
  },
  {
   "cell_type": "code",
   "execution_count": 6,
   "metadata": {},
   "outputs": [],
   "source": [
    "mlmd_store = mlmd_tools.connect_and_initialize(\"localhost:8080\")\n",
    "artifact = mlmd_tools.save_seldon_model_to_store(mlmd_store, model)"
   ]
  },
  {
   "cell_type": "code",
   "execution_count": 7,
   "metadata": {},
   "outputs": [
    {
     "data": {
      "text/plain": [
       "1"
      ]
     },
     "execution_count": 7,
     "metadata": {},
     "output_type": "execute_result"
    }
   ],
   "source": [
    "artifact.id"
   ]
  }
 ],
 "metadata": {
  "kernelspec": {
   "display_name": "Python 3",
   "language": "python",
   "name": "python3"
  },
  "language_info": {
   "codemirror_mode": {
    "name": "ipython",
    "version": 3
   },
   "file_extension": ".py",
   "mimetype": "text/x-python",
   "name": "python",
   "nbconvert_exporter": "python",
   "pygments_lexer": "ipython3",
   "version": "3.8.5"
  }
 },
 "nbformat": 4,
 "nbformat_minor": 4
}
